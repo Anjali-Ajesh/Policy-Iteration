{
  "nbformat": 4,
  "nbformat_minor": 0,
  "metadata": {
    "colab": {
      "provenance": []
    },
    "kernelspec": {
      "name": "python3",
      "display_name": "Python 3"
    },
    "language_info": {
      "name": "python"
    }
  },
  "cells": [
    {
      "cell_type": "markdown",
      "source": [
        "# POLICY ITERATION\n"
      ],
      "metadata": {
        "id": "Hpam2wQTPoHY"
      }
    },
    {
      "cell_type": "code",
      "execution_count": null,
      "metadata": {
        "id": "JZJA7DHqPHAm"
      },
      "outputs": [],
      "source": [
        "import numpy as np\n",
        "import matplotlib.pyplot as plt\n",
        "import sys\n",
        "from utils import plot_policy, test_agent"
      ]
    },
    {
      "cell_type": "code",
      "source": [
        "!pip install gym\n",
        "import gym"
      ],
      "metadata": {
        "colab": {
          "base_uri": "https://localhost:8080/"
        },
        "id": "YO7XE95FbFmj",
        "outputId": "4bda99fb-e65b-40e7-f4e0-9bda76e333b7"
      },
      "execution_count": null,
      "outputs": [
        {
          "output_type": "stream",
          "name": "stdout",
          "text": [
            "Requirement already satisfied: gym in /usr/local/lib/python3.11/dist-packages (0.25.2)\n",
            "Requirement already satisfied: numpy>=1.18.0 in /usr/local/lib/python3.11/dist-packages (from gym) (1.26.4)\n",
            "Requirement already satisfied: cloudpickle>=1.2.0 in /usr/local/lib/python3.11/dist-packages (from gym) (3.1.1)\n",
            "Requirement already satisfied: gym_notices>=0.0.4 in /usr/local/lib/python3.11/dist-packages (from gym) (0.0.8)\n"
          ]
        }
      ]
    },
    {
      "cell_type": "markdown",
      "source": [
        "## Initialize the environment"
      ],
      "metadata": {
        "id": "m2Dg-X-fRGEW"
      }
    },
    {
      "cell_type": "code",
      "source": [
        "from envs import Maze"
      ],
      "metadata": {
        "colab": {
          "base_uri": "https://localhost:8080/"
        },
        "id": "XH18MemGQlEF",
        "outputId": "92d208a7-5210-4cc7-e3e6-b390813a08bb"
      },
      "execution_count": null,
      "outputs": [
        {
          "output_type": "stream",
          "name": "stderr",
          "text": [
            "/usr/local/lib/python3.11/dist-packages/pygame/pkgdata.py:25: DeprecationWarning: pkg_resources is deprecated as an API. See https://setuptools.pypa.io/en/latest/pkg_resources.html\n",
            "  from pkg_resources import resource_stream, resource_exists\n",
            "/usr/local/lib/python3.11/dist-packages/pkg_resources/__init__.py:3154: DeprecationWarning: Deprecated call to `pkg_resources.declare_namespace('google')`.\n",
            "Implementing implicit namespace packages (as specified in PEP 420) is preferred to `pkg_resources.declare_namespace`. See https://setuptools.pypa.io/en/latest/references/keywords.html#keyword-namespace-packages\n",
            "  declare_namespace(pkg)\n",
            "/usr/local/lib/python3.11/dist-packages/pkg_resources/__init__.py:3154: DeprecationWarning: Deprecated call to `pkg_resources.declare_namespace('google.cloud')`.\n",
            "Implementing implicit namespace packages (as specified in PEP 420) is preferred to `pkg_resources.declare_namespace`. See https://setuptools.pypa.io/en/latest/references/keywords.html#keyword-namespace-packages\n",
            "  declare_namespace(pkg)\n",
            "/usr/local/lib/python3.11/dist-packages/pkg_resources/__init__.py:3154: DeprecationWarning: Deprecated call to `pkg_resources.declare_namespace('sphinxcontrib')`.\n",
            "Implementing implicit namespace packages (as specified in PEP 420) is preferred to `pkg_resources.declare_namespace`. See https://setuptools.pypa.io/en/latest/references/keywords.html#keyword-namespace-packages\n",
            "  declare_namespace(pkg)\n",
            "/usr/local/lib/python3.11/dist-packages/gym/core.py:43: DeprecationWarning: \u001b[33mWARN: The argument mode in render method is deprecated; use render_mode during environment initialization instead.\n",
            "See here for more information: https://www.gymlibrary.ml/content/api/\u001b[0m\n",
            "  deprecation(\n"
          ]
        }
      ]
    },
    {
      "cell_type": "code",
      "source": [
        "env = Maze()"
      ],
      "metadata": {
        "id": "vPw3gvwkbwEv"
      },
      "execution_count": null,
      "outputs": []
    },
    {
      "cell_type": "code",
      "source": [
        "frame = env.render(mode='rgb_array')\n",
        "plt.axis('off')\n",
        "plt.imshow(frame)\n",
        "plt.show()"
      ],
      "metadata": {
        "colab": {
          "base_uri": "https://localhost:8080/",
          "height": 406
        },
        "id": "n8B0rMw1RNI0",
        "outputId": "381df706-d653-4326-f0f6-e6734d15d6c9"
      },
      "execution_count": null,
      "outputs": [
        {
          "output_type": "display_data",
          "data": {
            "text/plain": [
              "<Figure size 640x480 with 1 Axes>"
            ],
            "image/png": "[encoded data removed]"
          },
          "metadata": {}
        }
      ]
    },
    {
      "cell_type": "code",
      "source": [
        "print(f'Observation space shape: {env.observation_space.nvec}')\n",
        "print(f'Number of actions: {env.action_space.n}')"
      ],
      "metadata": {
        "colab": {
          "base_uri": "https://localhost:8080/"
        },
        "id": "KA9_B6ldRm7j",
        "outputId": "e07bd2e2-0962-4d8c-b3c5-95938149eb88"
      },
      "execution_count": null,
      "outputs": [
        {
          "output_type": "stream",
          "name": "stdout",
          "text": [
            "Observation space shape: [5 5]\n",
            "Number of actions: 4\n"
          ]
        }
      ]
    },
    {
      "cell_type": "markdown",
      "source": [
        "## Define the policy"
      ],
      "metadata": {
        "id": "Zrgg5xpWSBac"
      }
    },
    {
      "cell_type": "markdown",
      "source": [
        "### Create the policy"
      ],
      "metadata": {
        "id": "Y5zioCX3SEFJ"
      }
    },
    {
      "cell_type": "code",
      "source": [
        "policy_probs = np.full((5,5,4), 0.25)"
      ],
      "metadata": {
        "id": "6Qv683OQRuBH"
      },
      "execution_count": null,
      "outputs": []
    },
    {
      "cell_type": "code",
      "source": [
        "policy_probs"
      ],
      "metadata": {
        "colab": {
          "base_uri": "https://localhost:8080/"
        },
        "id": "QGZKBZp0STl-",
        "outputId": "bdaf1238-bb59-4ad5-8416-85ff87a2705e"
      },
      "execution_count": null,
      "outputs": [
        {
          "output_type": "execute_result",
          "data": {
            "text/plain": [
              "array([[[0.25, 0.25, 0.25, 0.25],\n",
              "        [0.25, 0.25, 0.25, 0.25],\n",
              "        [0.25, 0.25, 0.25, 0.25],\n",
              "        [0.25, 0.25, 0.25, 0.25],\n",
              "        [0.25, 0.25, 0.25, 0.25]],\n",
              "\n",
              "       [[0.25, 0.25, 0.25, 0.25],\n",
              "        [0.25, 0.25, 0.25, 0.25],\n",
              "        [0.25, 0.25, 0.25, 0.25],\n",
              "        [0.25, 0.25, 0.25, 0.25],\n",
              "        [0.25, 0.25, 0.25, 0.25]],\n",
              "\n",
              "       [[0.25, 0.25, 0.25, 0.25],\n",
              "        [0.25, 0.25, 0.25, 0.25],\n",
              "        [0.25, 0.25, 0.25, 0.25],\n",
              "        [0.25, 0.25, 0.25, 0.25],\n",
              "        [0.25, 0.25, 0.25, 0.25]],\n",
              "\n",
              "       [[0.25, 0.25, 0.25, 0.25],\n",
              "        [0.25, 0.25, 0.25, 0.25],\n",
              "        [0.25, 0.25, 0.25, 0.25],\n",
              "        [0.25, 0.25, 0.25, 0.25],\n",
              "        [0.25, 0.25, 0.25, 0.25]],\n",
              "\n",
              "       [[0.25, 0.25, 0.25, 0.25],\n",
              "        [0.25, 0.25, 0.25, 0.25],\n",
              "        [0.25, 0.25, 0.25, 0.25],\n",
              "        [0.25, 0.25, 0.25, 0.25],\n",
              "        [0.25, 0.25, 0.25, 0.25]]])"
            ]
          },
          "metadata": {},
          "execution_count": 9
        }
      ]
    },
    {
      "cell_type": "code",
      "source": [
        "def policy(state):\n",
        "  return policy_probs[state]"
      ],
      "metadata": {
        "id": "3fT161ZuSU-l"
      },
      "execution_count": null,
      "outputs": []
    },
    {
      "cell_type": "markdown",
      "source": [
        "## Test the policy with state (0,0)"
      ],
      "metadata": {
        "id": "-u8eYBu0SjaL"
      }
    },
    {
      "cell_type": "code",
      "source": [
        "action_probabilities = policy((0,0))\n",
        "for action, prob in enumerate(action_probabilities):\n",
        "  print(f'Probability of taking action {action}: {prob}')"
      ],
      "metadata": {
        "colab": {
          "base_uri": "https://localhost:8080/"
        },
        "id": "xjsBuk85SiQ-",
        "outputId": "557a6024-a436-47c3-a559-2df0ff1884de"
      },
      "execution_count": null,
      "outputs": [
        {
          "output_type": "stream",
          "name": "stdout",
          "text": [
            "Probability of taking action 0: 0.25\n",
            "Probability of taking action 1: 0.25\n",
            "Probability of taking action 2: 0.25\n",
            "Probability of taking action 3: 0.25\n"
          ]
        }
      ]
    },
    {
      "cell_type": "markdown",
      "source": [
        "## See how the random policy does in the maze"
      ],
      "metadata": {
        "id": "Xae6imWpS9ar"
      }
    },
    {
      "cell_type": "code",
      "source": [
        "test_agent(env, policy, episodes =1)\n"
      ],
      "metadata": {
        "colab": {
          "base_uri": "https://localhost:8080/",
          "height": 653
        },
        "id": "Y9-9qDnVS2Rh",
        "outputId": "f039a88e-1944-4018-e198-412c290ffc2a"
      },
      "execution_count": null,
      "outputs": [
        {
          "output_type": "display_data",
          "data": {
            "text/plain": [
              "<Figure size 800x800 with 1 Axes>"
            ],
            "image/png": "[encoded data removed]"
          },
          "metadata": {}
        }
      ]
    },
    {
      "cell_type": "markdown",
      "source": [
        "## Plot the policy"
      ],
      "metadata": {
        "id": "JGNjQIUyTKep"
      }
    },
    {
      "cell_type": "code",
      "source": [
        "np.object = object"
      ],
      "metadata": {
        "id": "MPJgU7CTThmr"
      },
      "execution_count": null,
      "outputs": []
    },
    {
      "cell_type": "code",
      "source": [
        "plot_policy(policy_probs, frame)"
      ],
      "metadata": {
        "colab": {
          "base_uri": "https://localhost:8080/",
          "height": 607
        },
        "id": "zJq6g_y3TJjy",
        "outputId": "2621784a-8a4d-4069-a833-1659a0202455"
      },
      "execution_count": null,
      "outputs": [
        {
          "output_type": "display_data",
          "data": {
            "text/plain": [
              "<Figure size 1200x600 with 2 Axes>"
            ],
            "image/png": "[encoded data removed]"
          },
          "metadata": {}
        }
      ]
    },
    {
      "cell_type": "markdown",
      "source": [
        "## Define value table V(s)"
      ],
      "metadata": {
        "id": "myraqLuDTXAT"
      }
    },
    {
      "cell_type": "markdown",
      "source": [
        "### Create the V(s) Table"
      ],
      "metadata": {
        "id": "6Fzh5uwjUADh"
      }
    },
    {
      "cell_type": "code",
      "source": [
        "state_values = np.zeros(shape=(5,5))"
      ],
      "metadata": {
        "id": "JJPTjSfeTUgp"
      },
      "execution_count": null,
      "outputs": []
    },
    {
      "cell_type": "markdown",
      "source": [
        "Plot V"
      ],
      "metadata": {
        "id": "vKjU-GoSUMs9"
      }
    },
    {
      "cell_type": "code",
      "source": [
        "import numpy as np\n",
        "import matplotlib.pyplot as plt\n",
        "import sys\n",
        "from utils import plot_policy, test_agent, plot_values"
      ],
      "metadata": {
        "id": "xVE1M-hoUZ0Q"
      },
      "execution_count": null,
      "outputs": []
    },
    {
      "cell_type": "code",
      "source": [
        "plot_values(state_values, frame)"
      ],
      "metadata": {
        "colab": {
          "base_uri": "https://localhost:8080/",
          "height": 506
        },
        "id": "H74lAGxSUI-8",
        "outputId": "35571ccc-baa8-459a-ed5e-29fb206cc017"
      },
      "execution_count": null,
      "outputs": [
        {
          "output_type": "display_data",
          "data": {
            "text/plain": [
              "<Figure size 1200x500 with 3 Axes>"
            ],
            "image/png": "[encoded data removed]"
          },
          "metadata": {}
        }
      ]
    },
    {
      "cell_type": "markdown",
      "source": [
        "# Implement Policy Iteration"
      ],
      "metadata": {
        "id": "EdE4moNSUe10"
      }
    },
    {
      "cell_type": "code",
      "source": [
        "def policy_evaluation(policy_probs, state_values, theta=1e-6, gamma=0.99):\n",
        "  delta = float('inf')\n",
        "\n",
        "  while delta > theta:\n",
        "    delta = 0\n",
        "\n",
        "    for row in range(5):\n",
        "      for col in range(5):\n",
        "        old_value = state_values[(row,col)]\n",
        "        new_value = 0\n",
        "        action_probabilities = policy_probs[(row,col)]\n",
        "\n",
        "        for action, prob in enumerate(action_probabilities):\n",
        "          next_state, reward, done, info = env.step(action)\n",
        "          new_value += prob * (reward + gamma * state_values[next_state])\n",
        "\n",
        "        state_values[(row, col)] = new_value\n",
        "        delta = max(delta, abs(old_value - new_value))\n",
        "\n",
        "  return state_values"
      ],
      "metadata": {
        "id": "tV_kL9I3URY8"
      },
      "execution_count": null,
      "outputs": []
    },
    {
      "cell_type": "code",
      "source": [
        "def policy_improvement(policy_probs, state_values, gamma=0.99):\n",
        "  policy_stable = True\n",
        "\n",
        "  for row in range(5):\n",
        "    for col in range(5):\n",
        "      old_action = np.argmax(policy_probs[(row,col)])\n",
        "      new_action = None\n",
        "      max_qsa = float('-inf')\n",
        "      for action in range(4):\n",
        "        next_state, reward, done, info = env.simulate_step((row,col), action)\n",
        "        qsa = reward + gamma * state_values[next_state]\n",
        "\n",
        "        if qsa > max_qsa:\n",
        "          max_value = qsa\n",
        "          new_action = action\n",
        "\n",
        "      action_probs = np.zeros(4)\n",
        "      action_probs[new_action] = 1.\n",
        "      policy_probs[(row,col)] = action_probs\n",
        "\n",
        "      if new_action != old_action:\n",
        "        policy_stable = False\n",
        "\n",
        "  return policy_stable\n"
      ],
      "metadata": {
        "id": "ue5lYr9ZVeLC"
      },
      "execution_count": null,
      "outputs": []
    },
    {
      "cell_type": "code",
      "source": [
        "def policy_iteration(policy_probs, state_values, theta=1e-6, gamma=0.99):\n",
        "  policy_stable = False\n",
        "\n",
        "  while not policy_stable:\n",
        "    policy_evaluation(policy_probs, state_values, theta, gamma)\n",
        "    policy_stable = policy_improvement(policy_probs, state_values, gamma)"
      ],
      "metadata": {
        "id": "Gbedr6kTYdyF"
      },
      "execution_count": null,
      "outputs": []
    },
    {
      "cell_type": "code",
      "source": [
        "policy_iteration(policy_probs, state_values)"
      ],
      "metadata": {
        "id": "-Fy8-mZkYtFY"
      },
      "execution_count": null,
      "outputs": []
    },
    {
      "cell_type": "code",
      "source": [
        "plot_values(state_values, frame)"
      ],
      "metadata": {
        "id": "WpIMtz1RYzmv",
        "colab": {
          "base_uri": "https://localhost:8080/",
          "height": 505
        },
        "outputId": "7d9e6fe8-daf3-4754-bfa8-9da3005cdd6a"
      },
      "execution_count": null,
      "outputs": [
        {
          "output_type": "display_data",
          "data": {
            "text/plain": [
              "<Figure size 1200x500 with 3 Axes>"
            ],
            "image/png": "[encoded data removed]"
          },
          "metadata": {}
        }
      ]
    },
    {
      "cell_type": "code",
      "source": [
        "plot_policy(policy_probs, frame)"
      ],
      "metadata": {
        "id": "lNm0wNTKaRCL",
        "colab": {
          "base_uri": "https://localhost:8080/",
          "height": 607
        },
        "outputId": "bcec8172-ea2f-48d6-da81-8444331ba4fe"
      },
      "execution_count": null,
      "outputs": [
        {
          "output_type": "display_data",
          "data": {
            "text/plain": [
              "<Figure size 1200x600 with 2 Axes>"
            ],
            "image/png": "[encoded data removed]"
          },
          "metadata": {}
        }
      ]
    }
  ]
}